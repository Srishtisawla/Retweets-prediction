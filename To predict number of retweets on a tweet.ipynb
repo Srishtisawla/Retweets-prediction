{
 "cells": [
  {
   "cell_type": "code",
   "execution_count": 93,
   "metadata": {
    "collapsed": true
   },
   "outputs": [],
   "source": [
    "import pandas as pd\n",
    "import numpy as np\n",
    "from matplotlib import pyplot as plt\n",
    "import seaborn as sns\n",
    "from sklearn.preprocessing import LabelEncoder\n",
    "from sklearn import model_selection\n",
    "from sklearn.linear_model import LinearRegression\n",
    "from sklearn.metrics import mean_squared_error\n",
    "from sklearn import linear_model"
   ]
  },
  {
   "cell_type": "code",
   "execution_count": 38,
   "metadata": {
    "collapsed": true
   },
   "outputs": [],
   "source": [
    "data = pd.read_excel('tweets.xlsx',encoding='utf-8')"
   ]
  },
  {
   "cell_type": "code",
   "execution_count": 39,
   "metadata": {},
   "outputs": [
    {
     "name": "stdout",
     "output_type": "stream",
     "text": [
      "<class 'pandas.core.frame.DataFrame'>\n",
      "RangeIndex: 42368 entries, 0 to 42367\n",
      "Data columns (total 32 columns):\n",
      "TweetPostedTime              42368 non-null object\n",
      "TweetID                      42368 non-null int64\n",
      "TweetBody                    42368 non-null object\n",
      "TweetRetweetFlag             42368 non-null bool\n",
      "TweetSource                  42368 non-null object\n",
      "TweetInReplyToStatusID       101 non-null float64\n",
      "TweetInReplyToUserID         189 non-null float64\n",
      "TweetInReplyToScreenName     189 non-null object\n",
      "TweetRetweetCount            42368 non-null int64\n",
      "TweetFavoritesCount          42368 non-null int64\n",
      "TweetHashtags                42268 non-null object\n",
      "TweetPlaceID                 1000 non-null object\n",
      "TweetPlaceName               1000 non-null object\n",
      "TweetPlaceFullName           1000 non-null object\n",
      "TweetCountry                 999 non-null object\n",
      "TweetPlaceBoundingBox        1000 non-null object\n",
      "TweetPlaceAttributes         0 non-null float64\n",
      "TweetPlaceContainedWithin    0 non-null float64\n",
      "UserID                       42368 non-null int64\n",
      "UserName                     42368 non-null object\n",
      "UserScreenName               42368 non-null object\n",
      "UserLocation                 26342 non-null object\n",
      "UserDescription              38004 non-null object\n",
      "UserLink                     16599 non-null object\n",
      "UserExpandedLink             16562 non-null object\n",
      "UserFollowersCount           42368 non-null int64\n",
      "UserFriendsCount             42368 non-null int64\n",
      "UserListedCount              42368 non-null int64\n",
      "UserSignupDate               42368 non-null object\n",
      "UserTweetCount               42368 non-null int64\n",
      "MacroIterationNumber         42368 non-null int64\n",
      "tweet.place                  1000 non-null object\n",
      "dtypes: bool(1), float64(4), int64(9), object(18)\n",
      "memory usage: 10.1+ MB\n",
      "None\n"
     ]
    }
   ],
   "source": [
    "print data.info()"
   ]
  },
  {
   "cell_type": "code",
   "execution_count": 40,
   "metadata": {
    "collapsed": true
   },
   "outputs": [],
   "source": [
    "#dropping columns which have less than 5% non null values i.e less than 2118 values\n",
    "columns_to_be_dropped=[]\n",
    "for column in data.columns:\n",
    "    if (data[column].isnull().sum() > 0.95*(data.shape[0])):\n",
    "        columns_to_be_dropped.append(column)\n",
    "new_data=data.drop(columns_to_be_dropped,axis=1)"
   ]
  },
  {
   "cell_type": "code",
   "execution_count": 41,
   "metadata": {},
   "outputs": [
    {
     "name": "stdout",
     "output_type": "stream",
     "text": [
      "<class 'pandas.core.frame.DataFrame'>\n",
      "RangeIndex: 42368 entries, 0 to 42367\n",
      "Data columns (total 21 columns):\n",
      "TweetPostedTime         42368 non-null object\n",
      "TweetID                 42368 non-null int64\n",
      "TweetBody               42368 non-null object\n",
      "TweetRetweetFlag        42368 non-null bool\n",
      "TweetSource             42368 non-null object\n",
      "TweetRetweetCount       42368 non-null int64\n",
      "TweetFavoritesCount     42368 non-null int64\n",
      "TweetHashtags           42268 non-null object\n",
      "UserID                  42368 non-null int64\n",
      "UserName                42368 non-null object\n",
      "UserScreenName          42368 non-null object\n",
      "UserLocation            26342 non-null object\n",
      "UserDescription         38004 non-null object\n",
      "UserLink                16599 non-null object\n",
      "UserExpandedLink        16562 non-null object\n",
      "UserFollowersCount      42368 non-null int64\n",
      "UserFriendsCount        42368 non-null int64\n",
      "UserListedCount         42368 non-null int64\n",
      "UserSignupDate          42368 non-null object\n",
      "UserTweetCount          42368 non-null int64\n",
      "MacroIterationNumber    42368 non-null int64\n",
      "dtypes: bool(1), int64(9), object(11)\n",
      "memory usage: 6.5+ MB\n"
     ]
    }
   ],
   "source": [
    "new_data.info()\n"
   ]
  },
  {
   "cell_type": "code",
   "execution_count": 42,
   "metadata": {
    "collapsed": true
   },
   "outputs": [],
   "source": [
    "# as per time constraints not taking nlp into consideration \n",
    "#and dropping columns which may give insights if applied nlp\n",
    "columns_to_be_dropped1 = ['TweetPostedTime','TweetBody','TweetSource','UserName',\\\n",
    "                          'UserScreenName','UserDescription','UserExpandedLink',\\\n",
    "                          'MacroIterationNumber','UserLink','UserID','UserSignupDate','TweetHashtags']"
   ]
  },
  {
   "cell_type": "code",
   "execution_count": 43,
   "metadata": {
    "collapsed": true
   },
   "outputs": [],
   "source": [
    "new_data1=new_data.drop(columns_to_be_dropped1,axis=1)"
   ]
  },
  {
   "cell_type": "code",
   "execution_count": 51,
   "metadata": {
    "scrolled": false
   },
   "outputs": [
    {
     "data": {
      "text/html": [
       "<div>\n",
       "<style>\n",
       "    .dataframe thead tr:only-child th {\n",
       "        text-align: right;\n",
       "    }\n",
       "\n",
       "    .dataframe thead th {\n",
       "        text-align: left;\n",
       "    }\n",
       "\n",
       "    .dataframe tbody tr th {\n",
       "        vertical-align: top;\n",
       "    }\n",
       "</style>\n",
       "<table border=\"1\" class=\"dataframe\">\n",
       "  <thead>\n",
       "    <tr style=\"text-align: right;\">\n",
       "      <th></th>\n",
       "      <th>TweetID</th>\n",
       "      <th>TweetRetweetFlag</th>\n",
       "      <th>TweetRetweetCount</th>\n",
       "      <th>TweetFavoritesCount</th>\n",
       "      <th>UserLocation</th>\n",
       "      <th>UserFollowersCount</th>\n",
       "      <th>UserFriendsCount</th>\n",
       "      <th>UserListedCount</th>\n",
       "      <th>UserTweetCount</th>\n",
       "      <th>UserLocation_encoded</th>\n",
       "    </tr>\n",
       "  </thead>\n",
       "  <tbody>\n",
       "    <tr>\n",
       "      <th>0</th>\n",
       "      <td>811163485052817408</td>\n",
       "      <td>1</td>\n",
       "      <td>1</td>\n",
       "      <td>0</td>\n",
       "      <td>United States</td>\n",
       "      <td>6334</td>\n",
       "      <td>6144</td>\n",
       "      <td>1917</td>\n",
       "      <td>33556</td>\n",
       "      <td>21328</td>\n",
       "    </tr>\n",
       "    <tr>\n",
       "      <th>1</th>\n",
       "      <td>811163483463122944</td>\n",
       "      <td>1</td>\n",
       "      <td>1</td>\n",
       "      <td>0</td>\n",
       "      <td>durham  nc</td>\n",
       "      <td>154</td>\n",
       "      <td>371</td>\n",
       "      <td>180</td>\n",
       "      <td>3201</td>\n",
       "      <td>21849</td>\n",
       "    </tr>\n",
       "    <tr>\n",
       "      <th>2</th>\n",
       "      <td>811163466387988480</td>\n",
       "      <td>0</td>\n",
       "      <td>0</td>\n",
       "      <td>0</td>\n",
       "      <td>Canada</td>\n",
       "      <td>23433</td>\n",
       "      <td>24762</td>\n",
       "      <td>961</td>\n",
       "      <td>147958</td>\n",
       "      <td>16938</td>\n",
       "    </tr>\n",
       "    <tr>\n",
       "      <th>3</th>\n",
       "      <td>811163465125679104</td>\n",
       "      <td>1</td>\n",
       "      <td>1</td>\n",
       "      <td>0</td>\n",
       "      <td>Cypress, Texas, USA</td>\n",
       "      <td>11136</td>\n",
       "      <td>10081</td>\n",
       "      <td>978</td>\n",
       "      <td>28988</td>\n",
       "      <td>17320</td>\n",
       "    </tr>\n",
       "    <tr>\n",
       "      <th>4</th>\n",
       "      <td>811163457508642817</td>\n",
       "      <td>1</td>\n",
       "      <td>3065</td>\n",
       "      <td>0</td>\n",
       "      <td>Providence</td>\n",
       "      <td>55</td>\n",
       "      <td>21</td>\n",
       "      <td>31</td>\n",
       "      <td>19581</td>\n",
       "      <td>20177</td>\n",
       "    </tr>\n",
       "  </tbody>\n",
       "</table>\n",
       "</div>"
      ],
      "text/plain": [
       "              TweetID  TweetRetweetFlag  TweetRetweetCount  \\\n",
       "0  811163485052817408                 1                  1   \n",
       "1  811163483463122944                 1                  1   \n",
       "2  811163466387988480                 0                  0   \n",
       "3  811163465125679104                 1                  1   \n",
       "4  811163457508642817                 1               3065   \n",
       "\n",
       "   TweetFavoritesCount         UserLocation  UserFollowersCount  \\\n",
       "0                    0        United States                6334   \n",
       "1                    0           durham  nc                 154   \n",
       "2                    0               Canada               23433   \n",
       "3                    0  Cypress, Texas, USA               11136   \n",
       "4                    0           Providence                  55   \n",
       "\n",
       "   UserFriendsCount  UserListedCount  UserTweetCount  UserLocation_encoded  \n",
       "0              6144             1917           33556                 21328  \n",
       "1               371              180            3201                 21849  \n",
       "2             24762              961          147958                 16938  \n",
       "3             10081              978           28988                 17320  \n",
       "4                21               31           19581                 20177  "
      ]
     },
     "execution_count": 51,
     "metadata": {},
     "output_type": "execute_result"
    }
   ],
   "source": [
    "new_data1.head()"
   ]
  },
  {
   "cell_type": "code",
   "execution_count": 45,
   "metadata": {
    "collapsed": true
   },
   "outputs": [],
   "source": [
    "#feature engineering\n",
    "#number of hashtags\n",
    "# new_data1['number_of_hashtags']=0\n",
    "# for i in range(0,new_data1.shape[0]):\n",
    "#     new_data1['number_of_hashtags'][i]=str(new_data1['TweetHashtags'][0]).count(',') + 1"
   ]
  },
  {
   "cell_type": "code",
   "execution_count": 46,
   "metadata": {
    "collapsed": true
   },
   "outputs": [],
   "source": [
    "#data preprocessing\n",
    "new_data1['TweetRetweetFlag']=new_data1['TweetRetweetFlag'].astype(int)\n"
   ]
  },
  {
   "cell_type": "code",
   "execution_count": 47,
   "metadata": {
    "collapsed": true
   },
   "outputs": [],
   "source": [
    "le=LabelEncoder()"
   ]
  },
  {
   "cell_type": "code",
   "execution_count": 48,
   "metadata": {
    "collapsed": true
   },
   "outputs": [],
   "source": [
    "new_data1['UserLocation_encoded']=le.fit_transform(new_data1['UserLocation'])"
   ]
  },
  {
   "cell_type": "code",
   "execution_count": 49,
   "metadata": {
    "collapsed": true
   },
   "outputs": [],
   "source": [
    "#EDA\n",
    "numeric_feature_columns = list(new_data1._get_numeric_data().columns)\n",
    "categorical_feature_columns = list(set(new_data1.columns)-set(new_data1._get_numeric_data().columns))\n",
    "for column in numeric_feature_columns:\n",
    "    if pd.unique(new_data1[column]).shape[0] < np.sqrt(new_data1.shape[0]):\n",
    "        categorical_feature_columns.append(column)\n",
    "        numeric_feature_columns.remove(column)"
   ]
  },
  {
   "cell_type": "code",
   "execution_count": 55,
   "metadata": {},
   "outputs": [
    {
     "name": "stdout",
     "output_type": "stream",
     "text": [
      "numeric_feature_columns :\n",
      "[u'TweetID', u'TweetRetweetCount', u'UserFollowersCount', u'UserFriendsCount', u'UserListedCount', u'UserTweetCount']\n",
      "categorical_feature_columns :\n",
      "[u'UserLocation', u'TweetRetweetFlag', u'TweetFavoritesCount']\n"
     ]
    }
   ],
   "source": [
    "print \"numeric_feature_columns :\\n\",numeric_feature_columns\n",
    "print \"categorical_feature_columns :\\n\",categorical_feature_columns"
   ]
  },
  {
   "cell_type": "code",
   "execution_count": 68,
   "metadata": {},
   "outputs": [
    {
     "ename": "ValueError",
     "evalue": "list.remove(x): x not in list",
     "output_type": "error",
     "traceback": [
      "\u001b[0;31m---------------------------------------------------------------------------\u001b[0m",
      "\u001b[0;31mValueError\u001b[0m                                Traceback (most recent call last)",
      "\u001b[0;32m<ipython-input-68-a0bfc4354d33>\u001b[0m in \u001b[0;36m<module>\u001b[0;34m()\u001b[0m\n\u001b[0;32m----> 1\u001b[0;31m \u001b[0mcategorical_feature_columns\u001b[0m\u001b[0;34m.\u001b[0m\u001b[0mremove\u001b[0m\u001b[0;34m(\u001b[0m\u001b[0;34m'UserLocation'\u001b[0m\u001b[0;34m)\u001b[0m \u001b[0;31m#to many values\u001b[0m\u001b[0;34m\u001b[0m\u001b[0m\n\u001b[0m\u001b[1;32m      2\u001b[0m \u001b[0;31m# numeric_feature_columns.remove('UserLocation_encoded') #encoded\u001b[0m\u001b[0;34m\u001b[0m\u001b[0;34m\u001b[0m\u001b[0m\n\u001b[1;32m      3\u001b[0m \u001b[0;31m# numeric_feature_columns.remove('TweetRetweetCount') #predictor\u001b[0m\u001b[0;34m\u001b[0m\u001b[0;34m\u001b[0m\u001b[0m\n\u001b[1;32m      4\u001b[0m \u001b[0;31m# numeric_feature_columns.remove('TweetID') #not to be analysed in graph as it is the unique key\u001b[0m\u001b[0;34m\u001b[0m\u001b[0;34m\u001b[0m\u001b[0m\n",
      "\u001b[0;31mValueError\u001b[0m: list.remove(x): x not in list"
     ]
    }
   ],
   "source": [
    "categorical_feature_columns.remove('UserLocation') #to many values\n",
    "numeric_feature_columns.remove('UserLocation_encoded') #encoded\n",
    "numeric_feature_columns.remove('TweetRetweetCount') #predictor\n",
    "numeric_feature_columns.remove('TweetID') #not to be analysed in graph as it is the unique key"
   ]
  },
  {
   "cell_type": "code",
   "execution_count": 62,
   "metadata": {},
   "outputs": [
    {
     "data": {
      "image/png": "[encoded data removed]",
      "text/plain": [
       "<matplotlib.figure.Figure at 0x7fae4ca556d0>"
      ]
     },
     "metadata": {},
     "output_type": "display_data"
    },
    {
     "data": {
      "image/png": "[encoded data removed]",
      "text/plain": [
       "<matplotlib.figure.Figure at 0x7fae4cf95450>"
      ]
     },
     "metadata": {},
     "output_type": "display_data"
    },
    {
     "data": {
      "image/png": "[encoded data removed]",
      "text/plain": [
       "<matplotlib.figure.Figure at 0x7fae4cdb5690>"
      ]
     },
     "metadata": {},
     "output_type": "display_data"
    },
    {
     "data": {
      "image/png": "[encoded data removed]",
      "text/plain": [
       "<matplotlib.figure.Figure at 0x7fae4f88cad0>"
      ]
     },
     "metadata": {},
     "output_type": "display_data"
    }
   ],
   "source": [
    "for i in range(0,len(numeric_feature_columns),2):\n",
    "\tif len(numeric_feature_columns)>i+1:\n",
    "\t\tplt.subplot(121)\n",
    "\t\tsns.distplot(new_data1[numeric_feature_columns[i]], hist=True, kde=True)\n",
    "\t\tplt.subplot(122)\n",
    "\t\tsns.distplot(new_data1[numeric_feature_columns[i+1]], hist=True, kde=True)\n",
    "\t\tplt.tight_layout()\n",
    "\telse:\n",
    "\t\tsns.distplot(new_data1[numeric_feature_columns[i]], hist=True, kde=True)\n",
    "\tplt.show()\n",
    "for i in range(0,len(numeric_feature_columns),2):\n",
    "\tif len(numeric_feature_columns)>i+1:\n",
    "\t\tplt.subplot(121)\n",
    "\t\tsns.boxplot(None, numeric_feature_columns[i],data = new_data1)\n",
    "\t\tplt.subplot(122)\n",
    "\t\tsns.boxplot(None, numeric_feature_columns[i+1],data = new_data1)\n",
    "\t\tplt.tight_layout()\n",
    "\telse:\n",
    "\t\tsns.boxplot(None, numeric_feature_columns[i],data = new_data1)\n",
    "\tplt.show()"
   ]
  },
  {
   "cell_type": "code",
   "execution_count": 71,
   "metadata": {},
   "outputs": [
    {
     "data": {
      "image/png": "[encoded data removed]",
      "text/plain": [
       "<matplotlib.figure.Figure at 0x7fae2a10e2d0>"
      ]
     },
     "metadata": {},
     "output_type": "display_data"
    }
   ],
   "source": [
    "sns.countplot(y=categorical_feature_columns[0], data=new_data1)\n",
    "plt.show() "
   ]
  },
  {
   "cell_type": "code",
   "execution_count": 77,
   "metadata": {
    "collapsed": true
   },
   "outputs": [],
   "source": [
    "#Data modelling\n",
    "train,test = model_selection.train_test_split(new_data1,test_size=0.2,random_state=0)"
   ]
  },
  {
   "cell_type": "code",
   "execution_count": 82,
   "metadata": {},
   "outputs": [],
   "source": [
    "X_train=train[['TweetID','TweetRetweetFlag','TweetFavoritesCount','UserFollowersCount',\\\n",
    "              'UserFriendsCount','UserListedCount','UserTweetCount',\\\n",
    "              'UserLocation_encoded']]\n",
    "X_test=test[['TweetID','TweetRetweetFlag','TweetFavoritesCount','UserFollowersCount',\\\n",
    "              'UserFriendsCount','UserListedCount','UserTweetCount',\\\n",
    "              'UserLocation_encoded']]"
   ]
  },
  {
   "cell_type": "code",
   "execution_count": 84,
   "metadata": {},
   "outputs": [],
   "source": [
    "Y_train=train['TweetRetweetCount']\n",
    "y_test=test['TweetRetweetCount']"
   ]
  },
  {
   "cell_type": "code",
   "execution_count": 87,
   "metadata": {
    "collapsed": true
   },
   "outputs": [],
   "source": [
    "LR = LinearRegression()\n",
    "LR.fit(X=X_train,y=Y_train)\n",
    "y_pred = LR.predict(X_test)"
   ]
  },
  {
   "cell_type": "code",
   "execution_count": null,
   "metadata": {
    "collapsed": true
   },
   "outputs": [],
   "source": [
    "param_grid = {'C': [0.001, 0.01, 0.1, 1, 10, 100, 1000]}\n",
    "clf = GridSearchCV(LogR, param_grid)\n",
    "clf.estimator"
   ]
  },
  {
   "cell_type": "code",
   "execution_count": 90,
   "metadata": {},
   "outputs": [
    {
     "name": "stdout",
     "output_type": "stream",
     "text": [
      "1075.6585036419042\n"
     ]
    }
   ],
   "source": [
    "print(np.sqrt(mean_squared_error(y_test, y_pred)))"
   ]
  },
  {
   "cell_type": "code",
   "execution_count": 101,
   "metadata": {},
   "outputs": [
    {
     "name": "stdout",
     "output_type": "stream",
     "text": [
      "1075.6585036181446\n"
     ]
    }
   ],
   "source": [
    "LR = linear_model.Lasso(alpha=0.000001)\n",
    "LR.fit(X=X_train,y=Y_train)\n",
    "y_pred = LR.predict(X_test)\n",
    "print(np.sqrt(mean_squared_error(y_test, y_pred)))"
   ]
  }
 ],
 "metadata": {
  "kernelspec": {
   "display_name": "Python 2",
   "language": "python",
   "name": "python2"
  },
  "language_info": {
   "codemirror_mode": {
    "name": "ipython",
    "version": 2
   },
   "file_extension": ".py",
   "mimetype": "text/x-python",
   "name": "python",
   "nbconvert_exporter": "python",
   "pygments_lexer": "ipython2",
   "version": "2.7.14"
  }
 },
 "nbformat": 4,
 "nbformat_minor": 2
}
